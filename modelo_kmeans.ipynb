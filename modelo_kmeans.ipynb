{
 "cells": [
  {
   "cell_type": "code",
   "execution_count": 6,
   "metadata": {},
   "outputs": [
    {
     "name": "stderr",
     "output_type": "stream",
     "text": [
      "c:\\Users\\surze\\anaconda3\\lib\\site-packages\\sklearn\\cluster\\_kmeans.py:1446: UserWarning: KMeans is known to have a memory leak on Windows with MKL, when there are less chunks than available threads. You can avoid it by setting the environment variable OMP_NUM_THREADS=3.\n",
      "  warnings.warn(\n"
     ]
    }
   ],
   "source": [
    "import sqlite3\n",
    "import pandas as pd\n",
    "from sklearn.cluster import KMeans, DBSCAN, AgglomerativeClustering\n",
    "import folium\n",
    "\n",
    "# Connect to the SQLite database\n",
    "conn = sqlite3.connect('D:\\Coursera\\Files\\Files\\home\\coder\\project\\master.db')\n",
    "\n",
    "# Define the SQL query\n",
    "query = \"\"\"\n",
    "SELECT latitude, longitude, stars \n",
    "FROM business \n",
    "WHERE city = 'Santa Barbara' \n",
    "AND state = 'CA' \n",
    "AND categories LIKE '%Shopping%'\n",
    "\"\"\"\n",
    "\n",
    "# Execute the query and load the results into a pandas DataFrame\n",
    "df = pd.read_sql_query(query, conn)\n",
    "\n",
    "# Define the clustering algorithms\n",
    "kmeans = KMeans(n_clusters=3)\n",
    "dbscan = DBSCAN(eps=0.3)\n",
    "agg_clustering = AgglomerativeClustering(n_clusters=3)\n",
    "\n",
    "# Apply the clustering algorithms to the data\n",
    "df['kmeans_labels'] = kmeans.fit_predict(df[['latitude', 'longitude']])\n",
    "df['dbscan_labels'] = dbscan.fit_predict(df[['latitude', 'longitude']])\n",
    "df['agg_clustering_labels'] = agg_clustering.fit_predict(df[['latitude', 'longitude']])\n",
    "\n",
    "# Define the colors for the clusters\n",
    "colors = ['red', 'blue', 'green']\n",
    "\n",
    "# Plot the clusters on the map\n",
    "m = folium.Map(location=[34.4213, -119.6982], zoom_start=13)\n",
    "\n",
    "for index, row in df.iterrows():\n",
    "    folium.Marker([row['latitude'], row['longitude']], icon=folium.Icon(color=colors[int(row['kmeans_labels'])])).add_to(m)\n",
    "\n",
    "m.save(r'D:\\Coursera\\Files\\Files\\home\\coder\\project\\kmeans_map.html')\n",
    "\n",
    "m = folium.Map(location=[34.4213, -119.6982], zoom_start=13)\n",
    "\n",
    "for index, row in df.iterrows():\n",
    "    if row['dbscan_labels'] != -1:  # DBSCAN labels noise as -1\n",
    "        folium.Marker([row['latitude'], row['longitude']], icon=folium.Icon(color=colors[int(row['dbscan_labels'])])).add_to(m)\n",
    "\n",
    "m.save(r'D:\\Coursera\\Files\\Files\\home\\coder\\project\\dbscan_map.html')\n",
    "\n",
    "m = folium.Map(location=[34.4213, -119.6982], zoom_start=13)\n",
    "\n",
    "for index, row in df.iterrows():\n",
    "    folium.Marker([row['latitude'], row['longitude']], icon=folium.Icon(color=colors[int(row['agg_clustering_labels'])])).add_to(m)\n",
    "\n",
    "m.save(r'D:\\Coursera\\Files\\Files\\home\\coder\\project\\agg_clustering_map.html')"
   ]
  },
  {
   "cell_type": "code",
   "execution_count": 7,
   "metadata": {},
   "outputs": [
    {
     "name": "stderr",
     "output_type": "stream",
     "text": [
      "c:\\Users\\surze\\anaconda3\\lib\\site-packages\\sklearn\\cluster\\_kmeans.py:1446: UserWarning: KMeans is known to have a memory leak on Windows with MKL, when there are less chunks than available threads. You can avoid it by setting the environment variable OMP_NUM_THREADS=3.\n",
      "  warnings.warn(\n"
     ]
    }
   ],
   "source": [
    "import sqlite3\n",
    "import pandas as pd\n",
    "from sklearn.cluster import KMeans\n",
    "import folium\n",
    "\n",
    "# Connect to the SQLite database\n",
    "conn = sqlite3.connect('D:\\Coursera\\Files\\Files\\home\\coder\\project\\master.db')\n",
    "\n",
    "# Define the SQL query\n",
    "query = \"\"\"\n",
    "SELECT b.latitude, b.longitude, b.stars, COUNT(r.review_id) as review_count, AVG(r.stars) as avg_review_stars\n",
    "FROM business b\n",
    "JOIN review r ON b.business_id = r.business_id\n",
    "WHERE b.city = 'Santa Barbara' \n",
    "AND b.state = 'CA' \n",
    "AND b.categories LIKE '%Shopping%'\n",
    "GROUP BY b.business_id\n",
    "\"\"\"\n",
    "\n",
    "# Execute the query and load the results into a pandas DataFrame\n",
    "df = pd.read_sql_query(query, conn)\n",
    "\n",
    "# Define the clustering algorithm\n",
    "kmeans = KMeans(n_clusters=3)\n",
    "\n",
    "# Apply the clustering algorithm to the data\n",
    "df['kmeans_labels'] = kmeans.fit_predict(df[['latitude', 'longitude', 'stars', 'review_count', 'avg_review_stars']])\n",
    "\n",
    "# Define the colors for the clusters\n",
    "colors = ['red', 'blue', 'green']\n",
    "\n",
    "# Plot the clusters on the map\n",
    "m = folium.Map(location=[34.4213, -119.6982], zoom_start=13)\n",
    "\n",
    "for index, row in df.iterrows():\n",
    "    folium.Marker([row['latitude'], row['longitude']], \n",
    "                  icon=folium.Icon(color=colors[int(row['kmeans_labels'])]), \n",
    "                  popup=f\"Stars: {row['stars']}, Review Count: {row['review_count']}, Average Review Stars: {row['avg_review_stars']}\").add_to(m)\n",
    "\n",
    "m.save(r'D:\\Coursera\\Files\\Files\\home\\coder\\project\\kmeans_map.html')"
   ]
  },
  {
   "cell_type": "code",
   "execution_count": 8,
   "metadata": {},
   "outputs": [
    {
     "name": "stdout",
     "output_type": "stream",
     "text": [
      "                latitude   longitude     stars  review_count  avg_review_stars\n",
      "kmeans_labels                                                                 \n",
      "0              34.425606 -119.715876  3.943820     76.011236          3.963505\n",
      "1              34.425788 -119.707387  4.178571    245.928571          4.205683\n",
      "2              34.425520 -119.710181  3.945017     15.958763          3.922660\n"
     ]
    }
   ],
   "source": [
    "# Calculate the mean of each feature for each cluster\n",
    "cluster_profiles = df.groupby('kmeans_labels').mean()\n",
    "\n",
    "print(cluster_profiles)"
   ]
  },
  {
   "cell_type": "code",
   "execution_count": null,
   "metadata": {},
   "outputs": [],
   "source": []
  },
  {
   "cell_type": "code",
   "execution_count": 9,
   "metadata": {},
   "outputs": [
    {
     "name": "stdout",
     "output_type": "stream",
     "text": [
      "              latitude                                                        \\\n",
      "                 count       mean       std        min        25%        50%   \n",
      "kmeans_labels                                                                  \n",
      "0                 89.0  34.425606  0.009702  34.401619  34.419242  34.421798   \n",
      "1                 14.0  34.425788  0.013045  34.410014  34.417326  34.421016   \n",
      "2                582.0  34.425520  0.011712  34.401144  34.419236  34.421781   \n",
      "\n",
      "                                    longitude              ... review_count  \\\n",
      "                     75%        max     count        mean  ...          75%   \n",
      "kmeans_labels                                              ...                \n",
      "0              34.436396  34.443643      89.0 -119.715876  ...        89.00   \n",
      "1              34.435605  34.456488      14.0 -119.707387  ...       270.75   \n",
      "2              34.430488  34.532293     582.0 -119.710181  ...        22.00   \n",
      "\n",
      "                     avg_review_stars                                          \\\n",
      "                 max            count      mean       std       min       25%   \n",
      "kmeans_labels                                                                   \n",
      "0              156.0             89.0  3.963505  0.840707  1.672131  3.588235   \n",
      "1              478.0             14.0  4.205683  0.611826  2.641667  3.920824   \n",
      "2               45.0            582.0  3.922660  0.892390  1.000000  3.400000   \n",
      "\n",
      "                                             \n",
      "                    50%       75%       max  \n",
      "kmeans_labels                                \n",
      "0              4.162162  4.588235  5.000000  \n",
      "1              4.228889  4.632913  4.977528  \n",
      "2              4.085145  4.622596  5.000000  \n",
      "\n",
      "[3 rows x 40 columns]\n"
     ]
    }
   ],
   "source": [
    "# Calculate the statistical summary for each cluster\n",
    "cluster_profiles = df.groupby('kmeans_labels').describe()\n",
    "\n",
    "print(cluster_profiles)"
   ]
  },
  {
   "cell_type": "code",
   "execution_count": 12,
   "metadata": {},
   "outputs": [
    {
     "name": "stderr",
     "output_type": "stream",
     "text": [
      "c:\\Users\\surze\\anaconda3\\lib\\site-packages\\sklearn\\cluster\\_kmeans.py:1446: UserWarning: KMeans is known to have a memory leak on Windows with MKL, when there are less chunks than available threads. You can avoid it by setting the environment variable OMP_NUM_THREADS=2.\n",
      "  warnings.warn(\n"
     ]
    },
    {
     "name": "stdout",
     "output_type": "stream",
     "text": [
      "Silhouette Score: 0.7759572811050639\n"
     ]
    }
   ],
   "source": [
    "import sqlite3\n",
    "import pandas as pd\n",
    "from sklearn.cluster import KMeans\n",
    "from sklearn.metrics import silhouette_score\n",
    "import folium\n",
    "\n",
    "# Connect to the SQLite database\n",
    "conn = sqlite3.connect('D:\\Coursera\\Files\\Files\\home\\coder\\project\\master.db')\n",
    "\n",
    "# Define the SQL query\n",
    "query = \"\"\"\n",
    "SELECT b.latitude, b.longitude, b.stars, COUNT(r.review_id) as review_count, AVG(r.stars) as avg_review_stars,\n",
    "       AVG(u.useful) as avg_useful, AVG(u.funny) as avg_funny, AVG(u.cool) as avg_cool, AVG(u.fans) as avg_fans, AVG(u.average_stars) as avg_user_stars\n",
    "FROM business b\n",
    "JOIN review r ON b.business_id = r.business_id\n",
    "JOIN user u ON r.user_id = u.user_id\n",
    "WHERE b.city = 'Santa Barbara' \n",
    "AND b.state = 'CA' \n",
    "AND b.categories LIKE '%Shopping%'\n",
    "AND b.is_open = 1\n",
    "GROUP BY b.business_id\n",
    "\"\"\"\n",
    "\n",
    "# Execute the query and load the results into a pandas DataFrame\n",
    "df = pd.read_sql_query(query, conn)\n",
    "\n",
    "# Define the clustering algorithm\n",
    "kmeans = KMeans(n_clusters=5)\n",
    "\n",
    "# Apply the clustering algorithm to the data\n",
    "features = df[['latitude', 'longitude', 'stars', 'review_count', 'avg_review_stars', 'avg_useful', 'avg_funny', 'avg_cool', 'avg_fans', 'avg_user_stars']]\n",
    "df['kmeans_labels'] = kmeans.fit_predict(features)\n",
    "\n",
    "# Calculate the silhouette score\n",
    "silhouette = silhouette_score(features, df['kmeans_labels'])\n",
    "print(f'Silhouette Score: {silhouette}')\n",
    "\n",
    "# Define the colors for the clusters\n",
    "colors = ['red', 'blue', 'green', 'purple', 'orange']\n",
    "\n",
    "# Plot the clusters on the map\n",
    "m = folium.Map(location=[34.4213, -119.6982], zoom_start=13)\n",
    "\n",
    "for index, row in df.iterrows():\n",
    "    folium.Marker([row['latitude'], row['longitude']], \n",
    "                  icon=folium.Icon(color=colors[int(row['kmeans_labels'])]), \n",
    "                  popup=f\"Stars: {row['stars']}, Review Count: {row['review_count']}, Average Review Stars: {row['avg_review_stars']}, Useful: {row['avg_useful']}, Funny: {row['avg_funny']}, Cool: {row['avg_cool']}, Fans: {row['avg_fans']}, User Stars: {row['avg_user_stars']}\").add_to(m)\n",
    "\n",
    "m.save(r'D:\\Coursera\\Files\\Files\\home\\coder\\project\\kmeans_map_silhouette_score.html')\n",
    "\n",
    "\n",
    " # métrica de silhueta, que é uma medida de quão semelhante um objeto é ao seu próprio cluster em comparação com outros clusters. O valor da métrica de silhueta varia de -1 a 1, onde um valor alto indica que o objeto está bem combinado com seu próprio cluster e mal combinado com os clusters vizinhos."
   ]
  },
  {
   "cell_type": "code",
   "execution_count": 13,
   "metadata": {},
   "outputs": [
    {
     "name": "stdout",
     "output_type": "stream",
     "text": [
      "                latitude   longitude     stars  review_count  \\\n",
      "kmeans_labels                                                  \n",
      "0              34.426834 -119.712977  4.052696     30.882353   \n",
      "1              34.420627 -119.704062  3.961538     34.384615   \n",
      "2              34.420645 -119.720804  4.750000     13.500000   \n",
      "3              34.423731 -119.708692  3.910000     37.460000   \n",
      "4              34.417274 -119.677245  4.000000     57.333333   \n",
      "\n",
      "               avg_review_stars   avg_useful    avg_funny     avg_cool  \\\n",
      "kmeans_labels                                                            \n",
      "0                      4.033205   117.362304    45.278234    68.843391   \n",
      "1                      3.955540  2770.430892  1446.242068  2216.519197   \n",
      "2                      4.704545  7833.345455  4855.740909  7408.095455   \n",
      "3                      3.938884  1027.927079   530.373463   802.412945   \n",
      "4                      3.993263  5300.981654  3351.359567  4435.928361   \n",
      "\n",
      "                 avg_fans  avg_user_stars  \n",
      "kmeans_labels                              \n",
      "0                4.542675        3.940404  \n",
      "1               78.115074        3.903172  \n",
      "2              204.495455        4.099136  \n",
      "3               31.617626        3.905049  \n",
      "4              143.465175        3.977034  \n"
     ]
    }
   ],
   "source": [
    "# Calculate the mean of each feature for each cluster\n",
    "cluster_profiles = df.groupby('kmeans_labels').mean()\n",
    "\n",
    "print(cluster_profiles)"
   ]
  },
  {
   "cell_type": "code",
   "execution_count": 14,
   "metadata": {},
   "outputs": [
    {
     "name": "stderr",
     "output_type": "stream",
     "text": [
      "c:\\Users\\surze\\anaconda3\\lib\\site-packages\\sklearn\\cluster\\_kmeans.py:1446: UserWarning: KMeans is known to have a memory leak on Windows with MKL, when there are less chunks than available threads. You can avoid it by setting the environment variable OMP_NUM_THREADS=2.\n",
      "  warnings.warn(\n"
     ]
    },
    {
     "name": "stdout",
     "output_type": "stream",
     "text": [
      "Silhouette Score: 0.7653109863493083\n"
     ]
    }
   ],
   "source": [
    "import sqlite3\n",
    "import pandas as pd\n",
    "from sklearn.cluster import KMeans\n",
    "from sklearn.metrics import silhouette_score\n",
    "import folium\n",
    "\n",
    "# Connect to the SQLite database\n",
    "conn = sqlite3.connect('D:\\Coursera\\Files\\Files\\home\\coder\\project\\master.db')\n",
    "\n",
    "# Define the SQL query\n",
    "query = \"\"\"\n",
    "SELECT b.latitude, b.longitude, b.stars, COUNT(r.review_id) as review_count, AVG(r.stars) as avg_review_stars,\n",
    "       AVG(u.useful) as avg_useful, AVG(u.funny) as avg_funny, AVG(u.cool) as avg_cool, AVG(u.fans) as avg_fans, AVG(u.average_stars) as avg_user_stars\n",
    "FROM business b\n",
    "JOIN review r ON b.business_id = r.business_id\n",
    "JOIN user u ON r.user_id = u.user_id\n",
    "WHERE b.city = 'Santa Barbara' \n",
    "AND b.state = 'CA' \n",
    "AND b.categories LIKE '%Shopping%'\n",
    "AND b.is_open = 1\n",
    "GROUP BY b.business_id\n",
    "\"\"\"\n",
    "\n",
    "# Execute the query and load the results into a pandas DataFrame\n",
    "df = pd.read_sql_query(query, conn)\n",
    "\n",
    "# Define the clustering algorithm\n",
    "kmeans = KMeans(n_clusters=4)\n",
    "\n",
    "# Apply the clustering algorithm to the data\n",
    "features = df[['latitude', 'longitude', 'stars', 'review_count', 'avg_review_stars', 'avg_useful', 'avg_funny', 'avg_cool', 'avg_fans', 'avg_user_stars']]\n",
    "df['kmeans_labels'] = kmeans.fit_predict(features)\n",
    "\n",
    "# Calculate the silhouette score\n",
    "silhouette = silhouette_score(features, df['kmeans_labels'])\n",
    "print(f'Silhouette Score: {silhouette}')\n",
    "\n",
    "# Define the colors for the clusters\n",
    "colors = ['red', 'blue', 'green', 'orange']\n",
    "\n",
    "# Plot the clusters on the map\n",
    "m = folium.Map(location=[34.4213, -119.6982], zoom_start=13)\n",
    "\n",
    "for index, row in df.iterrows():\n",
    "    folium.Marker([row['latitude'], row['longitude']], \n",
    "                  icon=folium.Icon(color=colors[int(row['kmeans_labels'])]), \n",
    "                  popup=f\"Cluster: {row['kmeans_labels']}, Stars: {row['stars']}, Review Count: {row['review_count']}, Average Review Stars: {row['avg_review_stars']}, Useful: {row['avg_useful']}, Funny: {row['avg_funny']}, Cool: {row['avg_cool']}, Fans: {row['avg_fans']}, User Stars: {row['avg_user_stars']}\").add_to(m)\n",
    "\n",
    "m.save(r'D:\\Coursera\\Files\\Files\\home\\coder\\project\\kmeans_map.html')"
   ]
  },
  {
   "cell_type": "code",
   "execution_count": 20,
   "metadata": {},
   "outputs": [
    {
     "name": "stderr",
     "output_type": "stream",
     "text": [
      "c:\\Users\\surze\\anaconda3\\lib\\site-packages\\sklearn\\cluster\\_kmeans.py:1446: UserWarning: KMeans is known to have a memory leak on Windows with MKL, when there are less chunks than available threads. You can avoid it by setting the environment variable OMP_NUM_THREADS=2.\n",
      "  warnings.warn(\n"
     ]
    },
    {
     "name": "stdout",
     "output_type": "stream",
     "text": [
      "Silhouette Score: 0.8455447357855373\n"
     ]
    }
   ],
   "source": [
    "import sqlite3\n",
    "import pandas as pd\n",
    "from sklearn.cluster import KMeans\n",
    "from sklearn.metrics import silhouette_score\n",
    "import folium\n",
    "\n",
    "# Connect to the SQLite database\n",
    "conn = sqlite3.connect('D:\\Coursera\\Files\\Files\\home\\coder\\project\\master.db')\n",
    "\n",
    "# Define the SQL query\n",
    "query = \"\"\"\n",
    "SELECT b.latitude, b.longitude, b.stars, COUNT(r.review_id) as review_count, AVG(r.stars) as avg_review_stars,\n",
    "       AVG(u.useful) as avg_useful, AVG(u.funny) as avg_funny, AVG(u.cool) as avg_cool, AVG(u.fans) as avg_fans, AVG(u.average_stars) as avg_user_stars\n",
    "FROM business b\n",
    "JOIN review r ON b.business_id = r.business_id\n",
    "JOIN user u ON r.user_id = u.user_id\n",
    "WHERE b.city = 'Santa Barbara' \n",
    "AND b.state = 'CA' \n",
    "AND b.categories LIKE '%Shopping%'\n",
    "AND b.is_open = 1\n",
    "GROUP BY b.business_id\n",
    "\"\"\"\n",
    "\n",
    "# Execute the query and load the results into a pandas DataFrame\n",
    "df = pd.read_sql_query(query, conn)\n",
    "\n",
    "# Define the clustering algorithm\n",
    "kmeans = KMeans(n_clusters=3)\n",
    "\n",
    "# Apply the clustering algorithm to the data\n",
    "features = df[['latitude', 'longitude', 'stars', 'review_count', 'avg_review_stars', 'avg_useful', 'avg_funny', 'avg_cool', 'avg_fans', 'avg_user_stars']]\n",
    "df['kmeans_labels'] = kmeans.fit_predict(features)\n",
    "\n",
    "# Calculate the silhouette score\n",
    "silhouette = silhouette_score(features, df['kmeans_labels'])\n",
    "print(f'Silhouette Score: {silhouette}')\n",
    "\n",
    "# Define the colors for the clusters\n",
    "colors = ['red', 'blue', 'green']\n",
    "\n",
    "# Plot the clusters on the map\n",
    "m = folium.Map(location=[34.4213, -119.6982], zoom_start=13)\n",
    "\n",
    "for index, row in df.iterrows():\n",
    "    folium.Marker([row['latitude'], row['longitude']], \n",
    "                  icon=folium.Icon(color=colors[int(row['kmeans_labels'])]), \n",
    "                  popup=f\"Cluster: {row['kmeans_labels']}, Stars: {row['stars']}, Review Count: {row['review_count']}, Average Review Stars: {row['avg_review_stars']}, Useful: {row['avg_useful']}, Funny: {row['avg_funny']}, Cool: {row['avg_cool']}, Fans: {row['avg_fans']}, User Stars: {row['avg_user_stars']}\").add_to(m)\n",
    "\n",
    "m.save(r'D:\\Coursera\\Files\\Files\\home\\coder\\project\\kmeans_map.html')"
   ]
  },
  {
   "cell_type": "code",
   "execution_count": 21,
   "metadata": {},
   "outputs": [
    {
     "data": {
      "text/html": [
       "<div>\n",
       "<style scoped>\n",
       "    .dataframe tbody tr th:only-of-type {\n",
       "        vertical-align: middle;\n",
       "    }\n",
       "\n",
       "    .dataframe tbody tr th {\n",
       "        vertical-align: top;\n",
       "    }\n",
       "\n",
       "    .dataframe thead th {\n",
       "        text-align: right;\n",
       "    }\n",
       "</style>\n",
       "<table border=\"1\" class=\"dataframe\">\n",
       "  <thead>\n",
       "    <tr style=\"text-align: right;\">\n",
       "      <th></th>\n",
       "      <th>stars</th>\n",
       "      <th>review_count</th>\n",
       "      <th>avg_review_stars</th>\n",
       "      <th>avg_useful</th>\n",
       "      <th>avg_funny</th>\n",
       "      <th>avg_cool</th>\n",
       "      <th>avg_fans</th>\n",
       "      <th>avg_user_stars</th>\n",
       "    </tr>\n",
       "    <tr>\n",
       "      <th>kmeans_labels</th>\n",
       "      <th></th>\n",
       "      <th></th>\n",
       "      <th></th>\n",
       "      <th></th>\n",
       "      <th></th>\n",
       "      <th></th>\n",
       "      <th></th>\n",
       "      <th></th>\n",
       "    </tr>\n",
       "  </thead>\n",
       "  <tbody>\n",
       "    <tr>\n",
       "      <th>0</th>\n",
       "      <td>4.050676</td>\n",
       "      <td>30.916667</td>\n",
       "      <td>4.034133</td>\n",
       "      <td>176.939772</td>\n",
       "      <td>75.313416</td>\n",
       "      <td>116.614019</td>\n",
       "      <td>6.299834</td>\n",
       "      <td>3.938751</td>\n",
       "    </tr>\n",
       "    <tr>\n",
       "      <th>1</th>\n",
       "      <td>3.837500</td>\n",
       "      <td>41.000000</td>\n",
       "      <td>3.854520</td>\n",
       "      <td>2318.752964</td>\n",
       "      <td>1228.883239</td>\n",
       "      <td>1851.540644</td>\n",
       "      <td>66.703958</td>\n",
       "      <td>3.890363</td>\n",
       "    </tr>\n",
       "    <tr>\n",
       "      <th>2</th>\n",
       "      <td>4.187500</td>\n",
       "      <td>46.375000</td>\n",
       "      <td>4.171083</td>\n",
       "      <td>5934.072604</td>\n",
       "      <td>3727.454902</td>\n",
       "      <td>5178.970134</td>\n",
       "      <td>158.722745</td>\n",
       "      <td>4.007560</td>\n",
       "    </tr>\n",
       "  </tbody>\n",
       "</table>\n",
       "</div>"
      ],
      "text/plain": [
       "                  stars  review_count  avg_review_stars   avg_useful  \\\n",
       "kmeans_labels                                                          \n",
       "0              4.050676     30.916667          4.034133   176.939772   \n",
       "1              3.837500     41.000000          3.854520  2318.752964   \n",
       "2              4.187500     46.375000          4.171083  5934.072604   \n",
       "\n",
       "                 avg_funny     avg_cool    avg_fans  avg_user_stars  \n",
       "kmeans_labels                                                        \n",
       "0                75.313416   116.614019    6.299834        3.938751  \n",
       "1              1228.883239  1851.540644   66.703958        3.890363  \n",
       "2              3727.454902  5178.970134  158.722745        4.007560  "
      ]
     },
     "execution_count": 21,
     "metadata": {},
     "output_type": "execute_result"
    }
   ],
   "source": [
    "# Group by 'kmeans_labels', calculate the mean, and drop 'latitude' and 'longitude' columns\n",
    "cluster_profiles = df.groupby('kmeans_labels').mean().drop(['latitude', 'longitude'], axis=1)\n",
    "cluster_profiles"
   ]
  },
  {
   "cell_type": "code",
   "execution_count": 22,
   "metadata": {},
   "outputs": [
    {
     "name": "stdout",
     "output_type": "stream",
     "text": [
      "kmeans_labels\n",
      "0    444\n",
      "1     40\n",
      "2      8\n",
      "dtype: int64\n"
     ]
    }
   ],
   "source": [
    "# Count the number of cases per cluster\n",
    "cluster_counts = df.groupby('kmeans_labels').size()\n",
    "\n",
    "print(cluster_counts)"
   ]
  },
  {
   "cell_type": "code",
   "execution_count": 24,
   "metadata": {},
   "outputs": [
    {
     "name": "stdout",
     "output_type": "stream",
     "text": [
      "<class 'pandas.core.frame.DataFrame'>\n",
      "RangeIndex: 492 entries, 0 to 491\n",
      "Data columns (total 11 columns):\n",
      " #   Column            Non-Null Count  Dtype  \n",
      "---  ------            --------------  -----  \n",
      " 0   latitude          492 non-null    float64\n",
      " 1   longitude         492 non-null    float64\n",
      " 2   stars             492 non-null    float64\n",
      " 3   review_count      492 non-null    int64  \n",
      " 4   avg_review_stars  492 non-null    float64\n",
      " 5   avg_useful        492 non-null    float64\n",
      " 6   avg_funny         492 non-null    float64\n",
      " 7   avg_cool          492 non-null    float64\n",
      " 8   avg_fans          492 non-null    float64\n",
      " 9   avg_user_stars    492 non-null    float64\n",
      " 10  kmeans_labels     492 non-null    int32  \n",
      "dtypes: float64(9), int32(1), int64(1)\n",
      "memory usage: 40.5 KB\n"
     ]
    }
   ],
   "source": [
    "df.info()"
   ]
  },
  {
   "cell_type": "code",
   "execution_count": null,
   "metadata": {},
   "outputs": [],
   "source": []
  }
 ],
 "metadata": {
  "kernelspec": {
   "display_name": "base",
   "language": "python",
   "name": "python3"
  },
  "language_info": {
   "codemirror_mode": {
    "name": "ipython",
    "version": 3
   },
   "file_extension": ".py",
   "mimetype": "text/x-python",
   "name": "python",
   "nbconvert_exporter": "python",
   "pygments_lexer": "ipython3",
   "version": "3.9.7"
  }
 },
 "nbformat": 4,
 "nbformat_minor": 2
}
