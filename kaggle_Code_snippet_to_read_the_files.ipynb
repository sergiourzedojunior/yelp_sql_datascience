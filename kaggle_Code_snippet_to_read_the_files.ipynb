{
 "cells": [
  {
   "cell_type": "code",
   "execution_count": 1,
   "metadata": {},
   "outputs": [],
   "source": [
    "import json\n",
    "import pandas as pd\n",
    "from sqlalchemy import create_engine\n",
    "import os"
   ]
  },
  {
   "cell_type": "code",
   "execution_count": 4,
   "metadata": {},
   "outputs": [
    {
     "data": {
      "text/plain": [
       "131930"
      ]
     },
     "execution_count": 4,
     "metadata": {},
     "output_type": "execute_result"
    }
   ],
   "source": [
    "data_file = open(\"yelp_academic_dataset_checkin.json\")\n",
    "data = []\n",
    "for line in data_file:\n",
    "    data.append(json.loads(line))\n",
    "checkin_df = pd.DataFrame(data)\n",
    "data_file.close()\n",
    "\n",
    "\n",
    "# Create a SQLite database\n",
    "engine = create_engine('sqlite:///yelp_checkin.db', echo=False)\n",
    "\n",
    "# Save the DataFrame to the SQLite database\n",
    "checkin_df.to_sql('checkin', con=engine, if_exists='replace', index=False)"
   ]
  },
  {
   "cell_type": "code",
   "execution_count": 10,
   "metadata": {},
   "outputs": [
    {
     "data": {
      "text/plain": [
       "150346"
      ]
     },
     "execution_count": 10,
     "metadata": {},
     "output_type": "execute_result"
    }
   ],
   "source": [
    "data_file = open(\"yelp_academic_dataset_business.json\")\n",
    "data = []\n",
    "for line in data_file:\n",
    "    data.append(json.loads(line))\n",
    "business_df = pd.DataFrame(data)\n",
    "data_file.close()\n",
    "\n",
    "\n",
    "# Convert the dictionaries in 'attributes' and 'hours' to strings\n",
    "business_df['attributes'] = business_df['attributes'].apply(lambda x: json.dumps(x) if isinstance(x, dict) else x)\n",
    "business_df['hours'] = business_df['hours'].apply(lambda x: json.dumps(x) if isinstance(x, dict) else x)\n",
    "\n",
    "# Create a SQLite database\n",
    "engine = create_engine('sqlite:///yelp_business.db', echo=False)\n",
    "\n",
    "# Save the DataFrame to the SQLite database\n",
    "business_df.to_sql('business', con=engine, if_exists='replace', index=False)\n"
   ]
  },
  {
   "cell_type": "code",
   "execution_count": 12,
   "metadata": {},
   "outputs": [
    {
     "data": {
      "text/plain": [
       "6990280"
      ]
     },
     "execution_count": 12,
     "metadata": {},
     "output_type": "execute_result"
    }
   ],
   "source": [
    "data_file = open(\"yelp_academic_dataset_review.json\")\n",
    "data = []\n",
    "for line in data_file:\n",
    "    data.append(json.loads(line))\n",
    "review_df = pd.DataFrame(data)\n",
    "data_file.close()\n",
    "\n",
    "\n",
    "# Create a SQLite database\n",
    "engine = create_engine('sqlite:///yelp_review.db', echo=False)\n",
    "\n",
    "# Save the DataFrame to the SQLite database\n",
    "review_df.to_sql('review', con=engine, if_exists='replace', index=False)"
   ]
  },
  {
   "cell_type": "code",
   "execution_count": 14,
   "metadata": {},
   "outputs": [
    {
     "data": {
      "text/plain": [
       "908915"
      ]
     },
     "execution_count": 14,
     "metadata": {},
     "output_type": "execute_result"
    }
   ],
   "source": [
    "data_file = open(\"yelp_academic_dataset_tip.json\")\n",
    "data = []\n",
    "for line in data_file:\n",
    "    data.append(json.loads(line))\n",
    "tip_df = pd.DataFrame(data)\n",
    "data_file.close()\n",
    "\n",
    "\n",
    "# Create a SQLite database\n",
    "engine = create_engine('sqlite:///yelp_tip.db', echo=False)\n",
    "\n",
    "# Save the DataFrame to the SQLite database\n",
    "tip_df.to_sql('tip', con=engine, if_exists='replace', index=False)"
   ]
  },
  {
   "cell_type": "code",
   "execution_count": 2,
   "metadata": {},
   "outputs": [
    {
     "data": {
      "text/plain": [
       "1987897"
      ]
     },
     "execution_count": 2,
     "metadata": {},
     "output_type": "execute_result"
    }
   ],
   "source": [
    "data_file = open(\"yelp_academic_dataset_user.json\")\n",
    "data = []\n",
    "for line in data_file:\n",
    "    data.append(json.loads(line))\n",
    "user_df = pd.DataFrame(data)\n",
    "data_file.close()\n",
    "\n",
    "\n",
    "# Create a SQLite database\n",
    "engine = create_engine('sqlite:///yelp_user.db', echo=False)\n",
    "\n",
    "# Save the DataFrame to the SQLite database\n",
    "user_df.to_sql('user', con=engine, if_exists='replace', index=False)"
   ]
  }
 ],
 "metadata": {
  "kernelspec": {
   "display_name": "base",
   "language": "python",
   "name": "python3"
  },
  "language_info": {
   "codemirror_mode": {
    "name": "ipython",
    "version": 3
   },
   "file_extension": ".py",
   "mimetype": "text/x-python",
   "name": "python",
   "nbconvert_exporter": "python",
   "pygments_lexer": "ipython3",
   "version": "3.9.7"
  }
 },
 "nbformat": 4,
 "nbformat_minor": 2
}
