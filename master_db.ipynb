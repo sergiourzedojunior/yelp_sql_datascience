{
 "cells": [
  {
   "cell_type": "code",
   "execution_count": 1,
   "metadata": {},
   "outputs": [],
   "source": [
    "import sqlite3\n",
    "import os\n",
    "\n",
    "# Diretório de trabalho\n",
    "work_dir = \"D:\\\\Coursera\\\\Files\\\\Files\\\\home\\\\coder\\\\project\"\n",
    "\n",
    "# Nome do banco de dados mestre\n",
    "master_db_name = 'master.db'\n",
    "\n",
    "# Lista de bancos de dados e suas respectivas tabelas\n",
    "dbs = {\n",
    "    'yelp_user.db': 'user',\n",
    "    'yelp_tip.db': 'tip',\n",
    "    'yelp_review.db': 'review',\n",
    "    'yelp_checkin.db': 'checkin',\n",
    "    'yelp_business.db': 'business'\n",
    "}\n",
    "\n",
    "# Cria conexão com o banco de dados mestre\n",
    "master_conn = sqlite3.connect(os.path.join(work_dir, master_db_name))\n",
    "\n",
    "for db_name, table_name in dbs.items():\n",
    "    # Cria conexão com o banco de dados atual\n",
    "    db_conn = sqlite3.connect(os.path.join(work_dir, db_name))\n",
    "    \n",
    "    # Cria um cursor para o banco de dados atual\n",
    "    db_cursor = db_conn.cursor()\n",
    "    \n",
    "    # Executa uma consulta para obter todos os dados da tabela atual\n",
    "    db_cursor.execute(f\"SELECT * FROM {table_name}\")\n",
    "    \n",
    "    # Obtém todos os dados\n",
    "    data = db_cursor.fetchall()\n",
    "    \n",
    "    # Obtém os nomes das colunas\n",
    "    column_names = [description[0] for description in db_cursor.description]\n",
    "    \n",
    "    # Cria um cursor para o banco de dados mestre\n",
    "    master_cursor = master_conn.cursor()\n",
    "    \n",
    "    # Cria a tabela no banco de dados mestre\n",
    "    master_cursor.execute(f\"CREATE TABLE IF NOT EXISTS {table_name} ({', '.join(column_names)})\")\n",
    "    \n",
    "    # Insere os dados na tabela do banco de dados mestre\n",
    "    master_cursor.executemany(f\"INSERT INTO {table_name} VALUES ({', '.join(['?' for _ in column_names])})\", data)\n",
    "    \n",
    "    # Commita as alterações no banco de dados mestre\n",
    "    master_conn.commit()\n",
    "    \n",
    "    # Fecha a conexão com o banco de dados atual\n",
    "    db_conn.close()\n",
    "\n",
    "# Fecha a conexão com o banco de dados mestre\n",
    "master_conn.close()"
   ]
  }
 ],
 "metadata": {
  "kernelspec": {
   "display_name": "base",
   "language": "python",
   "name": "python3"
  },
  "language_info": {
   "codemirror_mode": {
    "name": "ipython",
    "version": 3
   },
   "file_extension": ".py",
   "mimetype": "text/x-python",
   "name": "python",
   "nbconvert_exporter": "python",
   "pygments_lexer": "ipython3",
   "version": "3.9.7"
  }
 },
 "nbformat": 4,
 "nbformat_minor": 2
}
