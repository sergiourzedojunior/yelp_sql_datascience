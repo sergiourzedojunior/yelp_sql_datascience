import sqlite3
import os

# Diretório de trabalho
work_dir = "D:\\Coursera\\Files\\Files\\home\\coder\\project"

# Nome do banco de dados mestre
master_db_name = 'master.db'

# Lista de bancos de dados e suas respectivas tabelas
dbs = {
    'yelp_user.db': 'user',
    'yelp_tip.db': 'tip',
    'yelp_review.db': 'review',
    'yelp_checkin.db': 'checkin',
    'yelp_business.db': 'business'
}

# Cria conexão com o banco de dados mestre
master_conn = sqlite3.connect(os.path.join(work_dir, master_db_name))

for db_name, table_name in dbs.items():
    # Cria conexão com o banco de dados atual
    db_conn = sqlite3.connect(os.path.join(work_dir, db_name))
    
    # Cria um cursor para o banco de dados atual
    db_cursor = db_conn.cursor()
    
    # Executa uma consulta para obter todos os dados da tabela atual
    db_cursor.execute(f"SELECT * FROM {table_name}")
    
    # Obtém todos os dados
    data = db_cursor.fetchall()
    
    # Obtém os nomes das colunas
    column_names = [description[0] for description in db_cursor.description]
    
    # Cria um cursor para o banco de dados mestre
    master_cursor = master_conn.cursor()
    
    # Cria a tabela no banco de dados mestre
    master_cursor.execute(f"CREATE TABLE IF NOT EXISTS {table_name} ({', '.join(column_names)})")
    
    # Insere os dados na tabela do banco de dados mestre
    master_cursor.executemany(f"INSERT INTO {table_name} VALUES ({', '.join(['?' for _ in column_names])})", data)
    
    # Commita as alterações no banco de dados mestre
    master_conn.commit()
    
    # Fecha a conexão com o banco de dados atual
    db_conn.close()

# Fecha a conexão com o banco de dados mestre
master_conn.close()
