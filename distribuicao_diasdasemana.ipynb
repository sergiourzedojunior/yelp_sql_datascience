{
 "cells": [
  {
   "cell_type": "code",
   "execution_count": 29,
   "metadata": {},
   "outputs": [],
   "source": [
    "import sqlite3\n",
    "\n",
    "# Crie uma conexão com o banco de dados SQLite\n",
    "conn = sqlite3.connect('D:\\Coursera\\Files\\Files\\home\\coder\\project\\master.db')\n",
    "\n",
    "\n",
    "# Carregue os dados do SQLite em um DataFrame pandas\n",
    "query = \"\"\"\n",
    "SELECT * \n",
    "FROM business \n",
    "WHERE stars BETWEEN 2 AND 3 \n",
    "AND city = 'Santa Barbara' \n",
    "AND state = 'CA' \n",
    "AND categories LIKE '%Shopping%'\n",
    "\"\"\"\n",
    "\n",
    "# Carregue os dados do SQLite em um DataFrame pandas\n",
    "df = pd.read_sql_query(query, conn)\n",
    "\n",
    "# Defina uma função para calcular a diferença de tempo em minutos\n",
    "def time_diff(row):\n",
    "    if pd.isnull(row):\n",
    "        return None\n",
    "    hours = json.loads(row.replace(\"'\", \"\\\"\"))\n",
    "    total_minutes = 0\n",
    "    days = 0\n",
    "    for day, time in hours.items():\n",
    "        open_time, close_time = time.split('-')\n",
    "        open_hour, open_minute = map(int, open_time.split(':'))\n",
    "        close_hour, close_minute = map(int, close_time.split(':'))\n",
    "        open_minutes = open_hour * 60 + open_minute\n",
    "        close_minutes = close_hour * 60 + close_minute\n",
    "        total_minutes += close_minutes - open_minutes\n",
    "        days += 1\n",
    "    return total_minutes / days\n",
    "\n",
    "# Aplique a função à coluna 'hours'\n",
    "df['avg_open_time'] = df['hours'].apply(time_diff)"
   ]
  },
  {
   "cell_type": "code",
   "execution_count": 34,
   "metadata": {},
   "outputs": [
    {
     "data": {
      "text/plain": [
       "stars  city           state  categories                                                                                                                                                            \n",
       "3.0    Santa Barbara  CA     Shopping, Thrift Stores                                                                                                                                                   2\n",
       "                             Beauty & Spas, Cosmetics & Beauty Supply, Shopping                                                                                                                        2\n",
       "2.0    Santa Barbara  CA     Appliances & Repair, Local Services, Electronics Repair, Heating & Air Conditioning/HVAC, Home Services, Shopping, Farming Equipment, Water Heater Installation/Repair    1\n",
       "3.0    Santa Barbara  CA     Fashion, Women's Clothing, Men's Clothing, Shopping, Children's Clothing, Maternity Wear                                                                                  1\n",
       "                             Fashion, Accessories, Women's Clothing, Shopping                                                                                                                          1\n",
       "                                                                                                                                                                                                      ..\n",
       "2.5    Santa Barbara  CA     Eyewear & Opticians, Optometrists, Shopping, Health & Medical                                                                                                             1\n",
       "                             Eyewear & Opticians, Doctors, Laser Eye Surgery/Lasik, Optometrists, Shopping, Health & Medical, Ophthalmologists                                                         1\n",
       "                             Event Planning & Services, Music & DVDs, Books, Mags, Music & Video, Shopping, Vinyl Records, Musicians                                                                   1\n",
       "                             Electronics, Professional Services, Home Services, Mobile Phones, Mobile Phone Accessories, Shopping, Internet Service Providers                                          1\n",
       "3.0    Santa Barbara  CA     Women's Clothing, Sporting Goods, Shopping, Sports Wear, Fashion                                                                                                          1\n",
       "Length: 134, dtype: int64"
      ]
     },
     "execution_count": 34,
     "metadata": {},
     "output_type": "execute_result"
    }
   ],
   "source": [
    "df[['stars','city','state','categories']].value_counts()"
   ]
  },
  {
   "cell_type": "code",
   "execution_count": 35,
   "metadata": {},
   "outputs": [
    {
     "data": {
      "text/plain": [
       "2.0"
      ]
     },
     "execution_count": 35,
     "metadata": {},
     "output_type": "execute_result"
    }
   ],
   "source": [
    "df['stars'].min()"
   ]
  },
  {
   "cell_type": "code",
   "execution_count": 36,
   "metadata": {},
   "outputs": [
    {
     "data": {
      "text/plain": [
       "3.0"
      ]
     },
     "execution_count": 36,
     "metadata": {},
     "output_type": "execute_result"
    }
   ],
   "source": [
    "df['stars'].max()"
   ]
  },
  {
   "cell_type": "code",
   "execution_count": 37,
   "metadata": {},
   "outputs": [
    {
     "data": {
      "text/plain": [
       "8.557432432432432"
      ]
     },
     "execution_count": 37,
     "metadata": {},
     "output_type": "execute_result"
    }
   ],
   "source": [
    "df['avg_open_time'].mean()/60\n"
   ]
  },
  {
   "cell_type": "code",
   "execution_count": 25,
   "metadata": {},
   "outputs": [],
   "source": [
    "import sqlite3\n",
    "\n",
    "# Crie uma conexão com o banco de dados SQLite\n",
    "conn = sqlite3.connect('D:\\Coursera\\Files\\Files\\home\\coder\\project\\master.db')\n",
    "\n",
    "\n",
    "# Carregue os dados do SQLite em um DataFrame pandas\n",
    "query1 = \"\"\"\n",
    "SELECT * \n",
    "FROM business \n",
    "WHERE stars BETWEEN 4 AND 5 \n",
    "AND city = 'Santa Barbara' \n",
    "AND state = 'CA' \n",
    "AND categories LIKE '%Shopping%'\n",
    "\"\"\"\n",
    "\n",
    "# Carregue os dados do SQLite em um DataFrame pandas\n",
    "df1 =  pd.read_sql_query(query1, conn)\n",
    "\n",
    "# Defina uma função para calcular a diferença de tempo em minutos\n",
    "def time_diff(row):\n",
    "    if pd.isnull(row):\n",
    "        return None\n",
    "    hours = json.loads(row.replace(\"'\", \"\\\"\"))\n",
    "    total_minutes = 0\n",
    "    days = 0\n",
    "    for day, time in hours.items():\n",
    "        open_time, close_time = time.split('-')\n",
    "        open_hour, open_minute = map(int, open_time.split(':'))\n",
    "        close_hour, close_minute = map(int, close_time.split(':'))\n",
    "        open_minutes = open_hour * 60 + open_minute\n",
    "        close_minutes = close_hour * 60 + close_minute\n",
    "        total_minutes += close_minutes - open_minutes\n",
    "        days += 1\n",
    "    return total_minutes / days\n",
    "\n",
    "# Aplique a função à coluna 'hours'\n",
    "df1['avg_open_time'] = df1['hours'].apply(time_diff)"
   ]
  },
  {
   "cell_type": "code",
   "execution_count": 26,
   "metadata": {},
   "outputs": [
    {
     "name": "stdout",
     "output_type": "stream",
     "text": [
      "<class 'pandas.core.frame.DataFrame'>\n",
      "RangeIndex: 453 entries, 0 to 452\n",
      "Data columns (total 15 columns):\n",
      " #   Column         Non-Null Count  Dtype  \n",
      "---  ------         --------------  -----  \n",
      " 0   business_id    453 non-null    object \n",
      " 1   name           453 non-null    object \n",
      " 2   address        453 non-null    object \n",
      " 3   city           453 non-null    object \n",
      " 4   state          453 non-null    object \n",
      " 5   postal_code    453 non-null    object \n",
      " 6   latitude       453 non-null    float64\n",
      " 7   longitude      453 non-null    float64\n",
      " 8   stars          453 non-null    float64\n",
      " 9   review_count   453 non-null    int64  \n",
      " 10  is_open        453 non-null    int64  \n",
      " 11  attributes     437 non-null    object \n",
      " 12  categories     453 non-null    object \n",
      " 13  hours          401 non-null    object \n",
      " 14  avg_open_time  401 non-null    float64\n",
      "dtypes: float64(4), int64(2), object(9)\n",
      "memory usage: 53.2+ KB\n"
     ]
    }
   ],
   "source": [
    "df1.info()"
   ]
  },
  {
   "cell_type": "code",
   "execution_count": 27,
   "metadata": {},
   "outputs": [
    {
     "data": {
      "text/plain": [
       "4.5    171\n",
       "4.0    148\n",
       "5.0    134\n",
       "Name: stars, dtype: int64"
      ]
     },
     "execution_count": 27,
     "metadata": {},
     "output_type": "execute_result"
    }
   ],
   "source": [
    "df1['stars'].value_counts()"
   ]
  },
  {
   "cell_type": "code",
   "execution_count": 28,
   "metadata": {},
   "outputs": [
    {
     "data": {
      "text/plain": [
       "7.315865099156874"
      ]
     },
     "execution_count": 28,
     "metadata": {},
     "output_type": "execute_result"
    }
   ],
   "source": [
    "df1['avg_open_time'].mean()/60"
   ]
  },
  {
   "cell_type": "code",
   "execution_count": 39,
   "metadata": {},
   "outputs": [
    {
     "name": "stdout",
     "output_type": "stream",
     "text": [
      "Distribuição para Monday:\n",
      " count    109.000000\n",
      "mean     411.055046\n",
      "std      300.507344\n",
      "min     -360.000000\n",
      "25%        0.000000\n",
      "50%      480.000000\n",
      "75%      630.000000\n",
      "max      900.000000\n",
      "Name: Monday, dtype: float64 \n",
      "\n",
      "Distribuição para Tuesday:\n",
      " count    106.000000\n",
      "mean     547.641509\n",
      "std      201.174181\n",
      "min     -360.000000\n",
      "25%      480.000000\n",
      "50%      570.000000\n",
      "75%      660.000000\n",
      "max      960.000000\n",
      "Name: Tuesday, dtype: float64 \n",
      "\n",
      "Distribuição para Wednesday:\n",
      " count    109.000000\n",
      "mean     555.688073\n",
      "std      209.417698\n",
      "min     -360.000000\n",
      "25%      480.000000\n",
      "50%      570.000000\n",
      "75%      660.000000\n",
      "max      960.000000\n",
      "Name: Wednesday, dtype: float64 \n",
      "\n",
      "Distribuição para Thursday:\n",
      " count    108.000000\n",
      "mean     549.166667\n",
      "std      203.313096\n",
      "min     -360.000000\n",
      "25%      480.000000\n",
      "50%      570.000000\n",
      "75%      660.000000\n",
      "max      900.000000\n",
      "Name: Thursday, dtype: float64 \n",
      "\n",
      "Distribuição para Friday:\n",
      " count    109.000000\n",
      "mean     550.458716\n",
      "std      203.270187\n",
      "min     -360.000000\n",
      "25%      480.000000\n",
      "50%      570.000000\n",
      "75%      660.000000\n",
      "max      900.000000\n",
      "Name: Friday, dtype: float64 \n",
      "\n",
      "Distribuição para Saturday:\n",
      " count    102.000000\n",
      "mean     535.882353\n",
      "std      224.371964\n",
      "min     -360.000000\n",
      "25%      480.000000\n",
      "50%      540.000000\n",
      "75%      660.000000\n",
      "max      960.000000\n",
      "Name: Saturday, dtype: float64 \n",
      "\n",
      "Distribuição para Sunday:\n",
      " count      86.000000\n",
      "mean      490.988372\n",
      "std       230.611489\n",
      "min      -360.000000\n",
      "25%       420.000000\n",
      "50%       480.000000\n",
      "75%       622.500000\n",
      "max      1080.000000\n",
      "Name: Sunday, dtype: float64 \n",
      "\n",
      "Distribuição para Monday:\n",
      " count    367.000000\n",
      "mean     337.070845\n",
      "std      250.042762\n",
      "min     -420.000000\n",
      "25%        0.000000\n",
      "50%      420.000000\n",
      "75%      510.000000\n",
      "max      960.000000\n",
      "Name: Monday, dtype: float64 \n",
      "\n",
      "Distribuição para Tuesday:\n",
      " count    375.000000\n",
      "mean     479.400000\n",
      "std      133.643812\n",
      "min     -420.000000\n",
      "25%      420.000000\n",
      "50%      480.000000\n",
      "75%      540.000000\n",
      "max      960.000000\n",
      "Name: Tuesday, dtype: float64 \n",
      "\n",
      "Distribuição para Wednesday:\n",
      " count     385.000000\n",
      "mean      473.649351\n",
      "std       165.021287\n",
      "min     -1020.000000\n",
      "25%       420.000000\n",
      "50%       480.000000\n",
      "75%       540.000000\n",
      "max       960.000000\n",
      "Name: Wednesday, dtype: float64 \n",
      "\n",
      "Distribuição para Thursday:\n",
      " count     390.000000\n",
      "mean      467.576923\n",
      "std       164.382737\n",
      "min     -1020.000000\n",
      "25%       420.000000\n",
      "50%       480.000000\n",
      "75%       540.000000\n",
      "max       960.000000\n",
      "Name: Thursday, dtype: float64 \n",
      "\n",
      "Distribuição para Friday:\n",
      " count    388.000000\n",
      "mean     469.059278\n",
      "std      173.866069\n",
      "min     -900.000000\n",
      "25%      420.000000\n",
      "50%      480.000000\n",
      "75%      540.000000\n",
      "max      960.000000\n",
      "Name: Friday, dtype: float64 \n",
      "\n",
      "Distribuição para Saturday:\n",
      " count    332.000000\n",
      "mean     441.054217\n",
      "std      182.680040\n",
      "min     -780.000000\n",
      "25%      360.000000\n",
      "50%      465.000000\n",
      "75%      540.000000\n",
      "max      960.000000\n",
      "Name: Saturday, dtype: float64 \n",
      "\n",
      "Distribuição para Sunday:\n",
      " count     220.00000\n",
      "mean      433.50000\n",
      "std       168.42278\n",
      "min      -420.00000\n",
      "25%       360.00000\n",
      "50%       420.00000\n",
      "75%       540.00000\n",
      "max      1170.00000\n",
      "Name: Sunday, dtype: float64 \n",
      "\n"
     ]
    }
   ],
   "source": [
    "import sqlite3\n",
    "import pandas as pd\n",
    "import json\n",
    "\n",
    "# Crie uma conexão com o banco de dados SQLite\n",
    "conn = sqlite3.connect('D:\\Coursera\\Files\\Files\\home\\coder\\project\\master.db')\n",
    "\n",
    "# Defina uma função para calcular a diferença de tempo em minutos para cada dia da semana\n",
    "def time_diff(row):\n",
    "    if pd.isnull(row):\n",
    "        return None\n",
    "    hours = json.loads(row.replace(\"'\", \"\\\"\"))\n",
    "    time_diffs = {}\n",
    "    for day, time in hours.items():\n",
    "        open_time, close_time = time.split('-')\n",
    "        open_hour, open_minute = map(int, open_time.split(':'))\n",
    "        close_hour, close_minute = map(int, close_time.split(':'))\n",
    "        open_minutes = open_hour * 60 + open_minute\n",
    "        close_minutes = close_hour * 60 + close_minute\n",
    "        time_diffs[day] = close_minutes - open_minutes\n",
    "    return time_diffs\n",
    "\n",
    "# Defina as consultas SQL\n",
    "query1 = \"\"\"\n",
    "SELECT * \n",
    "FROM business \n",
    "WHERE stars BETWEEN 2 AND 3 \n",
    "AND city = 'Santa Barbara' \n",
    "AND state = 'CA' \n",
    "AND categories LIKE '%Shopping%'\n",
    "\"\"\"\n",
    "query2 = \"\"\"\n",
    "SELECT * \n",
    "FROM business \n",
    "WHERE stars BETWEEN 4 AND 5 \n",
    "AND city = 'Santa Barbara' \n",
    "AND state = 'CA' \n",
    "AND categories LIKE '%Shopping%'\n",
    "\"\"\"\n",
    "\n",
    "# Carregue os dados do SQLite em DataFrames pandas e calcule as diferenças de tempo\n",
    "for query in [query1, query2]:\n",
    "    df = pd.read_sql_query(query, conn)\n",
    "    df['time_diffs'] = df['hours'].apply(time_diff)\n",
    "\n",
    "    # Calcule a distribuição de intervalos de horas para cada dia da semana\n",
    "    for day in ['Monday', 'Tuesday', 'Wednesday', 'Thursday', 'Friday', 'Saturday', 'Sunday']:\n",
    "        df[day] = df['time_diffs'].apply(lambda x: x.get(day, None) if x is not None else None)\n",
    "        print(f\"Distribuição para {day}:\\n\", df[day].describe(), \"\\n\")"
   ]
  },
  {
   "cell_type": "code",
   "execution_count": null,
   "metadata": {},
   "outputs": [],
   "source": []
  },
  {
   "cell_type": "code",
   "execution_count": 40,
   "metadata": {},
   "outputs": [
    {
     "data": {
      "text/plain": [
       "<Figure size 432x288 with 0 Axes>"
      ]
     },
     "metadata": {},
     "output_type": "display_data"
    },
    {
     "data": {
      "text/plain": [
       "<Figure size 432x288 with 0 Axes>"
      ]
     },
     "metadata": {},
     "output_type": "display_data"
    }
   ],
   "source": [
    "import sqlite3\n",
    "import pandas as pd\n",
    "import json\n",
    "import matplotlib.pyplot as plt\n",
    "\n",
    "# Crie uma conexão com o banco de dados SQLite\n",
    "conn = sqlite3.connect('D:\\Coursera\\Files\\Files\\home\\coder\\project\\master.db')\n",
    "\n",
    "# Defina uma função para calcular a diferença de tempo em minutos para cada dia da semana\n",
    "def time_diff(row):\n",
    "    if pd.isnull(row):\n",
    "        return None\n",
    "    hours = json.loads(row.replace(\"'\", \"\\\"\"))\n",
    "    time_diffs = {}\n",
    "    for day, time in hours.items():\n",
    "        open_time, close_time = time.split('-')\n",
    "        open_hour, open_minute = map(int, open_time.split(':'))\n",
    "        close_hour, close_minute = map(int, close_time.split(':'))\n",
    "        open_minutes = open_hour * 60 + open_minute\n",
    "        close_minutes = close_hour * 60 + close_minute\n",
    "        time_diffs[day] = close_minutes - open_minutes\n",
    "    return time_diffs\n",
    "\n",
    "# Defina as consultas SQL\n",
    "query1 = \"\"\"\n",
    "SELECT * \n",
    "FROM business \n",
    "WHERE stars BETWEEN 2 AND 3 \n",
    "AND city = 'Santa Barbara' \n",
    "AND state = 'CA' \n",
    "AND categories LIKE '%Shopping%'\n",
    "\"\"\"\n",
    "query2 = \"\"\"\n",
    "SELECT * \n",
    "FROM business \n",
    "WHERE stars BETWEEN 4 AND 5 \n",
    "AND city = 'Santa Barbara' \n",
    "AND state = 'CA' \n",
    "AND categories LIKE '%Shopping%'\n",
    "\"\"\"\n",
    "\n",
    "# Carregue os dados do SQLite em DataFrames pandas e calcule as diferenças de tempo\n",
    "for i, query in enumerate([query1, query2]):\n",
    "    df = pd.read_sql_query(query, conn)\n",
    "    df['time_diffs'] = df['hours'].apply(time_diff)\n",
    "\n",
    "    # Calcule a distribuição de intervalos de horas para cada dia da semana\n",
    "    for day in ['Monday', 'Tuesday', 'Wednesday', 'Thursday', 'Friday', 'Saturday', 'Sunday']:\n",
    "        df[day] = df['time_diffs'].apply(lambda x: x.get(day, None) if x is not None else None)\n",
    "        plt.figure(i)"
   ]
  },
  {
   "cell_type": "code",
   "execution_count": 41,
   "metadata": {},
   "outputs": [
    {
     "data": {
      "image/png": "[encoded data removed]",
      "text/plain": [
       "<Figure size 432x288 with 1 Axes>"
      ]
     },
     "metadata": {
      "needs_background": "light"
     },
     "output_type": "display_data"
    },
    {
     "data": {
      "image/png": "[encoded data removed]",
      "text/plain": [
       "<Figure size 432x288 with 1 Axes>"
      ]
     },
     "metadata": {
      "needs_background": "light"
     },
     "output_type": "display_data"
    },
    {
     "data": {
      "image/png": "[encoded data removed]",
      "text/plain": [
       "<Figure size 432x288 with 1 Axes>"
      ]
     },
     "metadata": {
      "needs_background": "light"
     },
     "output_type": "display_data"
    },
    {
     "data": {
      "image/png": "[encoded data removed]",
      "text/plain": [
       "<Figure size 432x288 with 1 Axes>"
      ]
     },
     "metadata": {
      "needs_background": "light"
     },
     "output_type": "display_data"
    },
    {
     "data": {
      "image/png": "[encoded data removed]",
      "text/plain": [
       "<Figure size 432x288 with 1 Axes>"
      ]
     },
     "metadata": {
      "needs_background": "light"
     },
     "output_type": "display_data"
    },
    {
     "data": {
      "image/png": "[encoded data removed]",
      "text/plain": [
       "<Figure size 432x288 with 1 Axes>"
      ]
     },
     "metadata": {
      "needs_background": "light"
     },
     "output_type": "display_data"
    },
    {
     "data": {
      "image/png": "[encoded data removed]",
      "text/plain": [
       "<Figure size 432x288 with 1 Axes>"
      ]
     },
     "metadata": {
      "needs_background": "light"
     },
     "output_type": "display_data"
    },
    {
     "data": {
      "image/png": "[encoded data removed]",
      "text/plain": [
       "<Figure size 432x288 with 1 Axes>"
      ]
     },
     "metadata": {
      "needs_background": "light"
     },
     "output_type": "display_data"
    },
    {
     "data": {
      "image/png": "[encoded data removed]",
      "text/plain": [
       "<Figure size 432x288 with 1 Axes>"
      ]
     },
     "metadata": {
      "needs_background": "light"
     },
     "output_type": "display_data"
    },
    {
     "data": {
      "image/png": "[encoded data removed]",
      "text/plain": [
       "<Figure size 432x288 with 1 Axes>"
      ]
     },
     "metadata": {
      "needs_background": "light"
     },
     "output_type": "display_data"
    },
    {
     "data": {
      "image/png": "[encoded data removed]",
      "text/plain": [
       "<Figure size 432x288 with 1 Axes>"
      ]
     },
     "metadata": {
      "needs_background": "light"
     },
     "output_type": "display_data"
    },
    {
     "data": {
      "image/png": "[encoded data removed]",
      "text/plain": [
       "<Figure size 432x288 with 1 Axes>"
      ]
     },
     "metadata": {
      "needs_background": "light"
     },
     "output_type": "display_data"
    },
    {
     "data": {
      "image/png": "[encoded data removed]",
      "text/plain": [
       "<Figure size 432x288 with 1 Axes>"
      ]
     },
     "metadata": {
      "needs_background": "light"
     },
     "output_type": "display_data"
    },
    {
     "data": {
      "image/png": "[encoded data removed]",
      "text/plain": [
       "<Figure size 432x288 with 1 Axes>"
      ]
     },
     "metadata": {
      "needs_background": "light"
     },
     "output_type": "display_data"
    }
   ],
   "source": [
    "import sqlite3\n",
    "import pandas as pd\n",
    "import json\n",
    "import matplotlib.pyplot as plt\n",
    "\n",
    "# Crie uma conexão com o banco de dados SQLite\n",
    "conn = sqlite3.connect('D:\\Coursera\\Files\\Files\\home\\coder\\project\\master.db')\n",
    "\n",
    "# Defina uma função para calcular a diferença de tempo em minutos para cada dia da semana\n",
    "def time_diff(row):\n",
    "    if pd.isnull(row):\n",
    "        return None\n",
    "    hours = json.loads(row.replace(\"'\", \"\\\"\"))\n",
    "    time_diffs = {}\n",
    "    for day, time in hours.items():\n",
    "        open_time, close_time = time.split('-')\n",
    "        open_hour, open_minute = map(int, open_time.split(':'))\n",
    "        close_hour, close_minute = map(int, close_time.split(':'))\n",
    "        open_minutes = open_hour * 60 + open_minute\n",
    "        close_minutes = close_hour * 60 + close_minute\n",
    "        time_diffs[day] = close_minutes - open_minutes\n",
    "    return time_diffs\n",
    "\n",
    "# Defina as consultas SQL\n",
    "query1 = \"\"\"\n",
    "SELECT * \n",
    "FROM business \n",
    "WHERE stars BETWEEN 2 AND 3 \n",
    "AND city = 'Santa Barbara' \n",
    "AND state = 'CA' \n",
    "AND categories LIKE '%Shopping%'\n",
    "\"\"\"\n",
    "query2 = \"\"\"\n",
    "SELECT * \n",
    "FROM business \n",
    "WHERE stars BETWEEN 4 AND 5 \n",
    "AND city = 'Santa Barbara' \n",
    "AND state = 'CA' \n",
    "AND categories LIKE '%Shopping%'\n",
    "\"\"\"\n",
    "\n",
    "# Carregue os dados do SQLite em DataFrames pandas e calcule as diferenças de tempo\n",
    "for i, query in enumerate([query1, query2]):\n",
    "    df = pd.read_sql_query(query, conn)\n",
    "    df['time_diffs'] = df['hours'].apply(time_diff)\n",
    "\n",
    "    # Calcule a distribuição de intervalos de horas para cada dia da semana\n",
    "    for day in ['Monday', 'Tuesday', 'Wednesday', 'Thursday', 'Friday', 'Saturday', 'Sunday']:\n",
    "        df[day] = df['time_diffs'].apply(lambda x: x.get(day, None) if x is not None else None)\n",
    "        plt.figure(i)\n",
    "        plt.hist(df[day].dropna(), bins=20, alpha=0.5)\n",
    "        plt.title(f\"Distribuição de intervalos de horas para {day} (query {i+1})\")\n",
    "        plt.xlabel('Intervalo de horas')\n",
    "        plt.ylabel('Frequência')\n",
    "        plt.show()"
   ]
  },
  {
   "cell_type": "code",
   "execution_count": 2,
   "metadata": {},
   "outputs": [
    {
     "name": "stdout",
     "output_type": "stream",
     "text": [
      "Number of reviews for group 1: 3355\n",
      "Number of reviews for group 2: 13542\n"
     ]
    }
   ],
   "source": [
    "import sqlite3\n",
    "import pandas as pd\n",
    "\n",
    "# Create a connection to the SQLite database\n",
    "conn = sqlite3.connect('D:\\Coursera\\Files\\Files\\home\\coder\\project\\master.db')\n",
    "\n",
    "# Define the SQL queries\n",
    "query1 = \"\"\"\n",
    "SELECT COUNT(*) \n",
    "FROM review \n",
    "WHERE business_id IN (\n",
    "    SELECT business_id \n",
    "    FROM business \n",
    "    WHERE stars BETWEEN 2 AND 3 \n",
    "    AND city = 'Santa Barbara' \n",
    "    AND state = 'CA' \n",
    "    AND categories LIKE '%Shopping%'\n",
    ")\n",
    "\"\"\"\n",
    "query2 = \"\"\"\n",
    "SELECT COUNT(*) \n",
    "FROM review \n",
    "WHERE business_id IN (\n",
    "    SELECT business_id \n",
    "    FROM business \n",
    "    WHERE stars BETWEEN 4 AND 5 \n",
    "    AND city = 'Santa Barbara' \n",
    "    AND state = 'CA' \n",
    "    AND categories LIKE '%Shopping%'\n",
    ")\n",
    "\"\"\"\n",
    "\n",
    "# Execute the queries and print the results\n",
    "count1 = pd.read_sql_query(query1, conn).iloc[0, 0]\n",
    "count2 = pd.read_sql_query(query2, conn).iloc[0, 0]\n",
    "\n",
    "print(f\"Number of reviews for group 1: {count1}\")\n",
    "print(f\"Number of reviews for group 2: {count2}\")"
   ]
  },
  {
   "cell_type": "code",
   "execution_count": 4,
   "metadata": {},
   "outputs": [
    {
     "name": "stdout",
     "output_type": "stream",
     "text": [
      "Collecting folium\n",
      "  Downloading folium-0.15.1-py2.py3-none-any.whl (97 kB)\n",
      "Collecting xyzservices\n",
      "  Downloading xyzservices-2023.10.1-py3-none-any.whl (56 kB)\n",
      "Requirement already satisfied: jinja2>=2.9 in c:\\users\\surze\\anaconda3\\lib\\site-packages (from folium) (3.1.2)\n",
      "Requirement already satisfied: requests in c:\\users\\surze\\anaconda3\\lib\\site-packages (from folium) (2.26.0)\n",
      "Requirement already satisfied: numpy in c:\\users\\surze\\anaconda3\\lib\\site-packages (from folium) (1.22.4)\n",
      "Collecting branca>=0.6.0\n",
      "  Downloading branca-0.7.1-py3-none-any.whl (25 kB)\n",
      "Requirement already satisfied: MarkupSafe>=2.0 in c:\\users\\surze\\anaconda3\\lib\\site-packages (from jinja2>=2.9->folium) (2.1.1)\n",
      "Requirement already satisfied: charset-normalizer~=2.0.0 in c:\\users\\surze\\anaconda3\\lib\\site-packages (from requests->folium) (2.0.4)\n",
      "Requirement already satisfied: certifi>=2017.4.17 in c:\\users\\surze\\anaconda3\\lib\\site-packages (from requests->folium) (2023.5.7)\n",
      "Requirement already satisfied: idna<4,>=2.5 in c:\\users\\surze\\anaconda3\\lib\\site-packages (from requests->folium) (3.2)\n",
      "Requirement already satisfied: urllib3<1.27,>=1.21.1 in c:\\users\\surze\\anaconda3\\lib\\site-packages (from requests->folium) (1.26.7)\n",
      "Installing collected packages: xyzservices, branca, folium\n",
      "Successfully installed branca-0.7.1 folium-0.15.1 xyzservices-2023.10.1\n",
      "Note: you may need to restart the kernel to use updated packages.\n"
     ]
    }
   ],
   "source": [
    "%pip install folium"
   ]
  },
  {
   "cell_type": "code",
   "execution_count": 6,
   "metadata": {},
   "outputs": [],
   "source": [
    "import sqlite3\n",
    "import pandas as pd\n",
    "import folium\n",
    "\n",
    "# Create a connection to the SQLite database\n",
    "conn = sqlite3.connect('D:\\Coursera\\Files\\Files\\home\\coder\\project\\master.db')\n",
    "\n",
    "# Define the SQL queries\n",
    "query1 = \"\"\"\n",
    "SELECT latitude, longitude \n",
    "FROM business \n",
    "WHERE stars BETWEEN 2 AND 3 \n",
    "AND city = 'Santa Barbara' \n",
    "AND state = 'CA' \n",
    "AND categories LIKE '%Shopping%'\n",
    "\"\"\"\n",
    "query2 = \"\"\"\n",
    "SELECT latitude, longitude \n",
    "FROM business \n",
    "WHERE stars BETWEEN 4 AND 5 \n",
    "AND city = 'Santa Barbara' \n",
    "AND state = 'CA' \n",
    "AND categories LIKE '%Shopping%'\n",
    "\"\"\"\n",
    "\n",
    "# Execute the queries and load the results into pandas DataFrames\n",
    "df1 = pd.read_sql_query(query1, conn)\n",
    "df2 = pd.read_sql_query(query2, conn)\n",
    "\n",
    "# Create a map centered around Santa Barbara\n",
    "m = folium.Map(location=[34.4213, -119.6982], zoom_start=13)\n",
    "\n",
    "# Add the locations from the first group to the map with one color\n",
    "for index, row in df1.iterrows():\n",
    "    folium.Marker([row['latitude'], row['longitude']], icon=folium.Icon(color='red')).add_to(m)\n",
    "\n",
    "# Add the locations from the second group to the map with another color\n",
    "for index, row in df2.iterrows():\n",
    "    folium.Marker([row['latitude'], row['longitude']], icon=folium.Icon(color='blue')).add_to(m)\n",
    "\n",
    "# Save the map to an HTML file\n",
    "m.save('D:\\Coursera\\Files\\Files\\home\\coder\\project\\map.html')"
   ]
  },
  {
   "cell_type": "code",
   "execution_count": 7,
   "metadata": {},
   "outputs": [
    {
     "name": "stdout",
     "output_type": "stream",
     "text": [
      "Distinct count: 17\n"
     ]
    }
   ],
   "source": [
    "import sqlite3\n",
    "import pandas as pd\n",
    "\n",
    "# Connect to the SQLite database\n",
    "conn = sqlite3.connect('D:\\Coursera\\Files\\Files\\home\\coder\\project\\master.db')\n",
    "\n",
    "# Define the SQL query\n",
    "query = \"\"\"\n",
    "SELECT elite\n",
    "FROM user\n",
    "\"\"\"\n",
    "\n",
    "# Execute the query and load the results into a pandas DataFrame\n",
    "df = pd.read_sql_query(query, conn)\n",
    "\n",
    "# Split the 'elite' column by comma and restructure the data into one column\n",
    "df = df['elite'].str.split(',', expand=True).stack().reset_index(drop=True)\n",
    "\n",
    "# Count distinct values\n",
    "distinct_count = df.nunique()\n",
    "\n",
    "print(f'Distinct count: {distinct_count}')"
   ]
  },
  {
   "cell_type": "code",
   "execution_count": 10,
   "metadata": {},
   "outputs": [
    {
     "name": "stdout",
     "output_type": "stream",
     "text": [
      "Distinct count: 20079821\n"
     ]
    }
   ],
   "source": [
    "import sqlite3\n",
    "import pandas as pd\n",
    "\n",
    "# Connect to the SQLite database\n",
    "conn = sqlite3.connect('D:\\Coursera\\Files\\Files\\home\\coder\\project\\master.db')\n",
    "\n",
    "# Define the SQL query\n",
    "query = \"\"\"\n",
    "SELECT friends\n",
    "FROM user\n",
    "\"\"\"\n",
    "\n",
    "# Initialize a set to store unique friends\n",
    "unique_friends = set()\n",
    "\n",
    "# Execute the query and process the results line by line\n",
    "for row in conn.execute(query):\n",
    "    # Split the 'friends' string by comma and add the unique values to the set\n",
    "    unique_friends.update(row[0].split(','))\n",
    "\n",
    "# Count the number of unique friends\n",
    "distinct_count = len(unique_friends)\n",
    "\n",
    "print(f'Distinct count: {distinct_count}')"
   ]
  },
  {
   "cell_type": "code",
   "execution_count": 13,
   "metadata": {},
   "outputs": [
    {
     "name": "stdout",
     "output_type": "stream",
     "text": [
      "Distinct count: 1311\n"
     ]
    }
   ],
   "source": [
    "import sqlite3\n",
    "\n",
    "# Connect to the SQLite database\n",
    "conn = sqlite3.connect('D:\\Coursera\\Files\\Files\\home\\coder\\project\\master.db')\n",
    "\n",
    "# Define the SQL query\n",
    "query = \"\"\"\n",
    "SELECT categories\n",
    "FROM business\n",
    "\"\"\"\n",
    "\n",
    "# Initialize a set to store unique categories\n",
    "unique_categories = set()\n",
    "\n",
    "# Execute the query and process the results line by line\n",
    "for row in conn.execute(query):\n",
    "    if row[0]:\n",
    "        # Split the 'categories' string by comma and add the unique values to the set\n",
    "        unique_categories.update(map(str.strip, row[0].split(',')))\n",
    "\n",
    "# Count the number of unique categories\n",
    "distinct_count = len(unique_categories)\n",
    "\n",
    "print(f'Distinct count: {distinct_count}')"
   ]
  },
  {
   "cell_type": "code",
   "execution_count": 14,
   "metadata": {},
   "outputs": [
    {
     "name": "stdout",
     "output_type": "stream",
     "text": [
      "Distinct count: 12524\n"
     ]
    }
   ],
   "source": [
    "import sqlite3\n",
    "\n",
    "# Connect to the SQLite database\n",
    "conn = sqlite3.connect('D:\\Coursera\\Files\\Files\\home\\coder\\project\\master.db')\n",
    "\n",
    "# Define the SQL query\n",
    "query = \"\"\"\n",
    "SELECT hours\n",
    "FROM business\n",
    "\"\"\"\n",
    "\n",
    "# Initialize a set to store unique hours\n",
    "unique_hours = set()\n",
    "\n",
    "# Execute the query and process the results line by line\n",
    "for row in conn.execute(query):\n",
    "    if row[0]:\n",
    "        # Split the 'hours' string by comma and add the unique values to the set\n",
    "        unique_hours.update(map(str.strip, row[0].split(',')))\n",
    "\n",
    "# Count the number of unique hours\n",
    "distinct_count = len(unique_hours)\n",
    "\n",
    "print(f'Distinct count: {distinct_count}')"
   ]
  },
  {
   "cell_type": "code",
   "execution_count": 15,
   "metadata": {},
   "outputs": [
    {
     "name": "stdout",
     "output_type": "stream",
     "text": [
      "Distinct count: 39\n"
     ]
    }
   ],
   "source": [
    "import sqlite3\n",
    "import json\n",
    "\n",
    "# Connect to the SQLite database\n",
    "conn = sqlite3.connect('D:\\Coursera\\Files\\Files\\home\\coder\\project\\master.db')\n",
    "\n",
    "# Define the SQL query\n",
    "query = \"\"\"\n",
    "SELECT attributes\n",
    "FROM business\n",
    "\"\"\"\n",
    "\n",
    "# Initialize a set to store unique attributes\n",
    "unique_attributes = set()\n",
    "\n",
    "# Execute the query and process the results line by line\n",
    "for row in conn.execute(query):\n",
    "    if row[0]:\n",
    "        # Parse the JSON string and add the keys (attributes) to the set\n",
    "        attributes = json.loads(row[0])\n",
    "        unique_attributes.update(attributes.keys())\n",
    "\n",
    "# Count the number of unique attributes\n",
    "distinct_count = len(unique_attributes)\n",
    "\n",
    "print(f'Distinct count: {distinct_count}')"
   ]
  }
 ],
 "metadata": {
  "kernelspec": {
   "display_name": "base",
   "language": "python",
   "name": "python3"
  },
  "language_info": {
   "codemirror_mode": {
    "name": "ipython",
    "version": 3
   },
   "file_extension": ".py",
   "mimetype": "text/x-python",
   "name": "python",
   "nbconvert_exporter": "python",
   "pygments_lexer": "ipython3",
   "version": "3.9.7"
  }
 },
 "nbformat": 4,
 "nbformat_minor": 2
}
