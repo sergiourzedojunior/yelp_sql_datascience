{
 "cells": [
  {
   "cell_type": "code",
   "execution_count": 2,
   "metadata": {},
   "outputs": [],
   "source": [
    "import sqlite3\n",
    "\n",
    "# Conecte-se ao seu banco de dados SQLite\n",
    "conn = sqlite3.connect('master.db')\n",
    "c = conn.cursor()\n",
    "\n",
    "# Execute a consulta para obter os dados da tabela original\n",
    "c.execute(\"SELECT business_id, date FROM checkin\")\n",
    "rows = c.fetchall()\n",
    "\n",
    "# Prepare os dados para a nova tabela\n",
    "new_rows = []\n",
    "for business_id, date in rows:\n",
    "    dates = date.split(',')\n",
    "    for d in dates:\n",
    "        new_rows.append((business_id, d.strip()))\n",
    "\n",
    "# Crie a nova tabela\n",
    "c.execute(\"CREATE TABLE nova_checkin (business_id TEXT, date TEXT)\")\n",
    "\n",
    "# Insira os novos dados na nova tabela\n",
    "c.executemany(\"INSERT INTO nova_checkin VALUES (?, ?)\", new_rows)\n",
    "\n",
    "# Commit as mudanças e feche a conexão\n",
    "conn.commit()\n",
    "conn.close()\n"
   ]
  }
 ],
 "metadata": {
  "kernelspec": {
   "display_name": "base",
   "language": "python",
   "name": "python3"
  },
  "language_info": {
   "codemirror_mode": {
    "name": "ipython",
    "version": 3
   },
   "file_extension": ".py",
   "mimetype": "text/x-python",
   "name": "python",
   "nbconvert_exporter": "python",
   "pygments_lexer": "ipython3",
   "version": "3.9.7"
  }
 },
 "nbformat": 4,
 "nbformat_minor": 2
}
