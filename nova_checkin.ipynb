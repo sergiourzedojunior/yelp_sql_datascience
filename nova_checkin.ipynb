import sqlite3

# Conecte-se ao seu banco de dados SQLite
conn = sqlite3.connect('master.db')
c = conn.cursor()

# Execute a consulta para obter os dados da tabela original
c.execute("SELECT business_id, date FROM checkin")
rows = c.fetchall()

# Prepare os dados para a nova tabela
new_rows = []
for business_id, date in rows:
    dates = date.split(',')
    for d in dates:
        new_rows.append((business_id, d.strip()))

# Crie a nova tabela
c.execute("CREATE TABLE nova_checkin (business_id TEXT, date TEXT)")

# Insira os novos dados na nova tabela
c.executemany("INSERT INTO nova_checkin VALUES (?, ?)", new_rows)

# Commit as mudanças e feche a conexão
conn.commit()
conn.close()

